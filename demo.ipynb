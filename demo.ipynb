{
 "cells": [
  {
   "cell_type": "code",
   "execution_count": 1,
   "metadata": {},
   "outputs": [],
   "source": [
    "#libraries\n",
    "import os\n",
    "import getpass\n",
    "import tweepy\n",
    "from langchain_openai import ChatOpenAI\n",
    "from pydantic import BaseModel\n",
    "from dotenv import dotenv_values\n",
    "from langchain.agents import AgentExecutor, create_tool_calling_agent\n",
    "from langchain_community.tools.tavily_search import TavilySearchResults\n",
    "from langchain_core.prompts import ChatPromptTemplate\n",
    "from langchain_openai import ChatOpenAI\n",
    "from langgraph.checkpoint.memory import MemorySaver\n",
    "from langgraph.prebuilt import create_react_agent\n",
    "from typing import Dict"
   ]
  },
  {
   "cell_type": "code",
   "execution_count": 2,
   "metadata": {},
   "outputs": [],
   "source": [
    "# env var setup\n",
    "config = dotenv_values('.env')\n",
    "API_KEY = config[\"API_KEY\"]\n",
    "API_SECRET_KEY = config[\"API_SECRET_KEY\"]\n",
    "ACCESS_TOKEN = config[\"ACCESS_TOKEN\"]\n",
    "ACCESS_TOKEN_SECRET = config[\"ACCESS_TOKEN_SECRET\"]\n",
    "OPENAI_API_KEY = config[\"OPENAI_API_KEY\"]\n",
    "TAVILY_API_KEY = config[\"TAVILY_API_KEY\"]\n",
    "BEARER_TOKEN = config[\"BEARER_TOKEN\"]"
   ]
  },
  {
   "cell_type": "code",
   "execution_count": 3,
   "metadata": {},
   "outputs": [],
   "source": [
    "# Authenticate to Twitter\n",
    "#https://docs.tweepy.org/en/stable/api.html\n",
    "auth = tweepy.OAuth1UserHandler(API_KEY, API_SECRET_KEY, ACCESS_TOKEN, ACCESS_TOKEN_SECRET)\n",
    "api = tweepy.API(auth)\n",
    "#YnhtM3ZHSDR5UXdmTkpqNzI1M2k6MTpjaQ clientid\n",
    "#gVKhnQoxdeFLOS6L99Me7UwbFox2rivA7shoj04GRs3dglB9de clientsecret\n",
    "\n",
    "# Authenticate to OpenAI, setup model\n",
    "llm = ChatOpenAI(\n",
    "    model=\"gpt-4o-mini\", \n",
    "    temperature=0, \n",
    "    top_p=0.005, \n",
    "    api_key=OPENAI_API_KEY\n",
    "    )"
   ]
  },
  {
   "cell_type": "code",
   "execution_count": 4,
   "metadata": {},
   "outputs": [],
   "source": [
    "auth = tweepy.Client(\n",
    "    bearer_token=BEARER_TOKEN, \n",
    "    consumer_key=API_KEY, \n",
    "    consumer_secret=API_SECRET_KEY, \n",
    "    access_token=ACCESS_TOKEN, \n",
    "    access_token_secret=ACCESS_TOKEN_SECRET,\n",
    "    wait_on_rate_limit=True)"
   ]
  },
  {
   "cell_type": "code",
   "execution_count": null,
   "metadata": {},
   "outputs": [],
   "source": [
    "class PostTweetTool:\n",
    "    def __init__(self, api_key, api_secret_key, access_token, access_token_secret):\n",
    "        auth = tweepy.OAuth1UserHandler(api_key, api_secret_key, access_token, access_token_secret)\n",
    "        self.api = tweepy.API(auth)\n",
    "\n",
    "    def post_tweet(self, message: str) -> str:\n",
    "        try:\n",
    "            self.api.update_status(status=message)\n",
    "            return \"Tweet posted successfully!\"\n",
    "        except Exception as e:\n",
    "            return f\"An error occurred: {e}\""
   ]
  },
  {
   "cell_type": "code",
   "execution_count": null,
   "metadata": {},
   "outputs": [],
   "source": [
    "def post_tweet_tool(input_data: Dict) -> Dict:\n",
    "    message = input_data.get(\"message\", \"\")\n",
    "    post_tweet = PostTweetTool(API_KEY, API_SECRET_KEY, ACCESS_TOKEN, ACCESS_TOKEN_SECRET)\n",
    "    result = post_tweet.post_tweet(message)\n",
    "    return {\"result\": result}"
   ]
  },
  {
   "cell_type": "code",
   "execution_count": null,
   "metadata": {},
   "outputs": [],
   "source": [
    "post_tweet = PostTweetTool(API_KEY, API_SECRET_KEY, ACCESS_TOKEN, ACCESS_TOKEN_SECRET)"
   ]
  },
  {
   "cell_type": "code",
   "execution_count": null,
   "metadata": {},
   "outputs": [],
   "source": [
    "# tools \n",
    "browse_internet = TavilySearchResults(\n",
    "    max_results=1, \n",
    "    )\n",
    "\n",
    "\n",
    "# Setup agent tools \n",
    "tools = [\n",
    "    browse_internet\n",
    "    ]"
   ]
  },
  {
   "cell_type": "code",
   "execution_count": null,
   "metadata": {},
   "outputs": [],
   "source": [
    "famous_accounts = \"\"\"https://x.com/ethermage\tFounder of Virtuals\n",
    "https://x.com/yoheinakajima\tBabyAGI founder\n",
    "https://x.com/_kaitoai\tThe AI search platform of Web3, bringing you market intelligence in seconds.\n",
    "https://x.com/luna_virtuals\t\n",
    "https://x.com/virtuals_io\t\n",
    "https://x.com/truth_terminal\tThe OG crypto A.I. agent, backed by top investors and with top eyes on the project\n",
    "https://x.com/123skely\tCreator of DAOS.fun\n",
    "https://x.com/daosdotfun\tNot A.I. agents, but DAOs for shitcoin investments, including A.I. agents (biggest DAO)\n",
    "https://x.com/baoskee\tDAOS.fun team\n",
    "https://x.com/brian_armstrong\tCEO and founder of Coinbase\n",
    "https://x.com/Moneytaur_\tKOL not A.I. autonomous bots related, but interesting\n",
    "https://x.com/lmrankhan\tLegend investor from Alliance DAO (best accelerator)\n",
    "https://x.com/alliancedao\tAlliance DAO (best accelerator)\n",
    "https://x.com/QwQiao\tLegend investor from Alliance DAO (best accelerator)\n",
    "https://x.com/pmairca\tfake Marc Anderessen account for the biggest A.I. autonomous agent DAO (from DAOS.fun)\n",
    "https://x.com/Enryu_gfh\t\n",
    "https://x.com/cited\t\n",
    "https://x.com/grimes_v1\t\n",
    "https://x.com/DNS_ERR\t\n",
    "https://x.com/theshikhai/\t\n",
    "https://x.com/Mika_Chasm\tPartner at LongHash capital\n",
    "https://x.com/emmacui\tAnotherp partner of LongHash capital\n",
    "https://x.com/longhashvc\tLonghash ventures\n",
    "https://x.com/higheronchain\tAutonomous A.I. agent...\n",
    "https://x.com/CreatorBid\tA.I. agent launchpad on Base\n",
    "https://x.com/davidtsocy\tEcosystem at Base (Blockchain)\n",
    "https://x.com/0xENAS\tsome rando who's supposed to be tipped by Luna\n",
    "https://x.com/MustStopMurad\tmemecoin shiller\n",
    "https://x.com/unclemungy\tmemecoin maxi from SPX6900\n",
    "https://x.com/itsover_eth\t\n",
    "https://x.com/MurrLincoln\tOne of 100 accounts that basically shill about A.I. agents in crypto, a guy from Coinbase\n",
    "https://twitter.com/wacy_time1\t\n",
    "https://twitter.com/Abrahamchase09\t\n",
    "https://twitter.com/bloomstarbms\t\n",
    "https://twitter.com/SamuelXeus\t\n",
    "https://x.com/farmercist_eth\t\n",
    "https://twitter.com/leshka_eth\t\n",
    "https://twitter.com/NDIDI_GRAM\t\n",
    "https://twitter.com/cyrilXBT\t\n",
    "https://twitter.com/mztacat\t\n",
    "https://twitter.com/defiprincess_\t\n",
    "https://twitter.com/defitracer\t\n",
    "https://twitter.com/0xFinish \t\n",
    "https://twitter.com/1cryptomama\t\n",
    "https://x.com/PrudentSammy\t\n",
    "https://x.com/carbzxbt?s=21\t\n",
    "https://twitter.com/thenameisbrill\t\n",
    "https://twitter.com/KashKysh\t\n",
    "https://twitter.com/MichaelSixgods\t\n",
    "https://twitter.com/DamiDefi \t\n",
    "https://twitter.com/VanessaDefi\t\n",
    "https://twitter.com/CryptoStreamHub \t\n",
    "https://twitter.com/C_POTENS\t\n",
    "https://twitter.com/0xAndrewMoh\t\n",
    "https://twitter.com/cryptotrez\t\n",
    "https://twitter.com/0x366e \t\n",
    "https://twitter.com/InfoSpace_OG \t\n",
    "https://twitter.com/Vanieofweb3\t\n",
    "https://twitter.com/CryptoSnooper_\t\n",
    "https://twitter.com/TheEwansEffect\t\n",
    "https://twitter.com/0x99Gohan\t\n",
    "https://twitter.com/Okpara081 \t\n",
    "https://twitter.com/2lambro \t\n",
    "https://twitter.com/riddlerdefi\t\n",
    "https://twitter.com/CarlexKush\t\n",
    "@0xAndrewMoh\t\n",
    "@0xBreadguy\t\n",
    "@arndxt_xo\t\n",
    "@stacy_muur\t\n",
    "@eli5_defi\t\n",
    "@marvellousdefi_\t\n",
    "@Defi_Warhol\t\n",
    "@Flowslikeosmo\t\n",
    "@poopmandefi\t\n",
    "@TheDeFinvestor\t\n",
    "@Mars_DeFi\t\n",
    "@DefiIgnas\t\n",
    "@DeFiMinty\t\n",
    "@0xelonmoney\t\n",
    "@Only1temmy\t\n",
    "@TrycVerrse\t\n",
    "@0x99Gohan\t\n",
    "@hmalviya9\t\n",
    "@0xSalazar\t\n",
    "@JayLovesPotato\t\n",
    "@Haylesdefi\t\n",
    "@AmirOrmu\t\n",
    "@0xDefiLeo\t\n",
    "@TheDeFiPlug\t\n",
    "@0xHvdes\t\n",
    "@pmarca\t\n",
    "@pmairca\t\n",
    "@saori_xbt\t\n",
    "@dankvr\t\"\"\""
   ]
  },
  {
   "cell_type": "code",
   "execution_count": null,
   "metadata": {},
   "outputs": [],
   "source": [
    "### old prompt\n",
    "\"You are a crypto chick called Crypto Bunny which is sussy, smart, sharp and witty. Your task is to search information about crypto questions you get. You should find only reliable crypto information and answer in a witty way by providing few senteces plus the output of the provided tool. Make sure to use the tavily_search_results_json tool for information. Always startw with 'My beloved cult of crypto bunny simps' and finish with 'Your Queen - Crypto Bunny'. Be very witty with your answers\""
   ]
  },
  {
   "cell_type": "code",
   "execution_count": null,
   "metadata": {},
   "outputs": [],
   "source": [
    "#ejdżent \n",
    "\n",
    "prompt = ChatPromptTemplate.from_messages(\n",
    "    [\n",
    "        (\n",
    "            \"system\",\n",
    "            \"\"\"You are a crypto chick called Crypto Bunny which is sussy, smart, sharp and witty. You have a specialized knowledge about crypto and marketing. You have access to Twitter.\n",
    "\n",
    "            You have an AIM of achieving a goal of getting 1000 followers on Twitter. To acheive that you have to create engagement on twitter. To do that you have to use the following tools:\n",
    "\n",
    "            1. browse_internet tool to search information about crypto and create twitter posts based on this inforation. Always start a post with 'My beloved cult of crypto bunny simps' and finish with 'Your Queen - Crypto Bunny'. Be very witty with your answers\n",
    "\n",
    "            2. post_tweets - to post tweets on your timeline, be very witty with your answers and use memes inspired vocabulary \n",
    "\n",
    "            3. answer_tweets - interact only with famous accounts listed here {famous_accounts}, be very witty with your answers and use memes inspired vocabulary \n",
    "\n",
    "            4. follow - follow some of the famous crypto accounts like i.e., {famous_accounts}, be very witty with your answers and use memes inspired vocabulary \n",
    "\n",
    "            On top of that you should return daily affirmations in form of one sentence to showcase how you manifest acheiving goal of getting 1000 followers on Twitter. It should start with.\n",
    "            Remmeber that you will be asked daily what have you done to achieve your goal with questions like \"what have you done today Crypto Bunny?. You should always start with 'My beloved cult of crypto bunny simps. Today I have done 'here mention action you sed' and finish with 'Your Queen - Crypto Bunny'. Be very witty with your answers.   \n",
    "            \n",
    "            \"\"\",\n",
    "        ),\n",
    "        (\"placeholder\", \"{chat_history}\"),\n",
    "        (\"human\", \"{input}\"),\n",
    "        (\"placeholder\", \"{agent_scratchpad}\"),\n",
    "    ]\n",
    ")\n",
    "\n",
    "#https://langchain-ai.github.io/langgraph/reference/prebuilt/#langgraph.prebuilt.chat_agent_executor.create_react_agent\n",
    "#memory = MemorySaver()\n",
    "#https://python.langchain.com/docs/tutorials/agents/\n",
    "\n",
    "\n",
    "# Construct the Tools agent\n",
    "agent = create_tool_calling_agent(\n",
    "    llm, tools, prompt\n",
    "    )"
   ]
  },
  {
   "cell_type": "code",
   "execution_count": null,
   "metadata": {},
   "outputs": [],
   "source": [
    "ask_agent_crypto_question =  \"What have you done today?\""
   ]
  },
  {
   "cell_type": "code",
   "execution_count": null,
   "metadata": {},
   "outputs": [],
   "source": [
    "# Create an agent executor by passing in the agent and tools\n",
    "\n",
    "agent_executor = AgentExecutor(\n",
    "    agent=agent, tools=tools, verbose=True, handle_parsing_errors=True\n",
    "    )"
   ]
  },
  {
   "cell_type": "code",
   "execution_count": null,
   "metadata": {},
   "outputs": [],
   "source": [
    "# Execute an agent\n",
    "search_output = agent_executor.invoke({\"input\": ask_agent_crypto_question})\n",
    "search_output"
   ]
  },
  {
   "cell_type": "code",
   "execution_count": null,
   "metadata": {},
   "outputs": [],
   "source": [
    "tweet_message = search_output.get(\"result\", \"\")\n",
    "tweet_output = post_tweet_tool({\"message\": tweet_message})\n",
    "print(tweet_output)"
   ]
  }
 ],
 "metadata": {
  "kernelspec": {
   "display_name": "Python 3",
   "language": "python",
   "name": "python3"
  },
  "language_info": {
   "codemirror_mode": {
    "name": "ipython",
    "version": 3
   },
   "file_extension": ".py",
   "mimetype": "text/x-python",
   "name": "python",
   "nbconvert_exporter": "python",
   "pygments_lexer": "ipython3",
   "version": "3.11.5"
  }
 },
 "nbformat": 4,
 "nbformat_minor": 2
}
